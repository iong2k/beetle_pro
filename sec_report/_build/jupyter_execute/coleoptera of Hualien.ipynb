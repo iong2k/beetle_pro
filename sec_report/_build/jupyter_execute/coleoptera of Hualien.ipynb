{
 "cells": [
  {
   "cell_type": "code",
   "execution_count": 1,
   "id": "448c4b91-8d16-4dd3-9e10-1491e579e5df",
   "metadata": {},
   "outputs": [
    {
     "name": "stdout",
     "output_type": "stream",
     "text": [
      "Coleoptera of Hualien\n"
     ]
    }
   ],
   "source": [
    "print('Coleoptera of Hualien')"
   ]
  },
  {
   "cell_type": "markdown",
   "id": "9ccfabf8-4762-4a8d-be12-98a3a7e6789a",
   "metadata": {},
   "source": [
    "* ##### *Melolonthahua liensis* (Kobayashiet Chou,2009)\n",
    "* ##### 花蓮吹粉金龜 \n",
    "* ##### III-9 2022 WD\n",
    "* ##### Hongtiân vil,Siuhong twp,Hualiân county,Taiwan\n",
    "\n",
    "臺灣特有種，分佈範圍侷限在奇萊平原至卑南覓平原之間的縱谷地帶，本種與近似種矮吹粉金龜外觀相似但體毛較密(尤其是中胸腹板)\n",
    "，**腹側白斑也不明顯(主要辨別特徵)**，  整體來說較為黯淡。採集方面本種數量稀少且發生期相當短暫，只集中在一到兩個星期之內；矮吹粉金龜的產季則緊跟其後但不重疊。\n",
    "\n",
    "授權方式：CC-BY"
   ]
  },
  {
   "cell_type": "markdown",
   "id": "8d6ca9fb-cfc4-453e-ad02-5abb33d5d9c1",
   "metadata": {},
   "source": [
    "![](./assignment/p2.jpg)"
   ]
  },
  {
   "cell_type": "code",
   "execution_count": null,
   "id": "b8bc9e49-145c-4c5f-8106-505afa764c85",
   "metadata": {},
   "outputs": [],
   "source": []
  }
 ],
 "metadata": {
  "kernelspec": {
   "display_name": "Python 3 (ipykernel)",
   "language": "python",
   "name": "python3"
  },
  "language_info": {
   "codemirror_mode": {
    "name": "ipython",
    "version": 3
   },
   "file_extension": ".py",
   "mimetype": "text/x-python",
   "name": "python",
   "nbconvert_exporter": "python",
   "pygments_lexer": "ipython3",
   "version": "3.12.4"
  }
 },
 "nbformat": 4,
 "nbformat_minor": 5
}